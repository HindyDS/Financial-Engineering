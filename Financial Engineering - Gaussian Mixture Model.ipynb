{
 "cells": [
  {
   "cell_type": "code",
   "execution_count": 6,
   "id": "d554800e",
   "metadata": {},
   "outputs": [],
   "source": [
    "import pandas_datareader as rd\n",
    "import matplotlib.pyplot as plt\n",
    "import seaborn as sns\n",
    "import numpy as np\n",
    "import pandas as pd\n",
    "from sklearn.mixture import GaussianMixture\n",
    "from scipy.stats import norm"
   ]
  },
  {
   "cell_type": "code",
   "execution_count": 11,
   "id": "92d96ef4",
   "metadata": {},
   "outputs": [],
   "source": [
    "# Get the stock quote\n",
    "goog = rd.DataReader('GOOG', data_source='yahoo', start='1980-01-01', end='2021-01-01')\n",
    "goog['Close_prev'] = goog['Close'].shift(1)\n",
    "goog['return'] = goog['Close_prev']/goog['Close'] - 1\n",
    "goog['log_return'] = np.log1p(goog['return'])"
   ]
  },
  {
   "cell_type": "code",
   "execution_count": 12,
   "id": "ea3a1eeb",
   "metadata": {},
   "outputs": [
    {
     "name": "stdout",
     "output_type": "stream",
     "text": [
      "weights:  [0.7132806 0.2867194]\n",
      "means:  [[-1.23653534e-03]\n",
      " [ 6.59626320e-05]]\n",
      "variances:  [[[0.00010939]]\n",
      "\n",
      " [[0.00100672]]]\n"
     ]
    }
   ],
   "source": [
    "data = goog['log_return'].dropna().to_numpy().reshape(-1 ,1)\n",
    "model = GaussianMixture(n_components=2)\n",
    "model.fit(data)\n",
    "\n",
    "weights = model.weights_\n",
    "means = model.means_\n",
    "cov = model.covariances_\n",
    "print('weights: ', weights)\n",
    "print('means: ', means)\n",
    "print('variances: ', cov)"
   ]
  },
  {
   "cell_type": "code",
   "execution_count": 13,
   "id": "1f4bb5a8",
   "metadata": {},
   "outputs": [
    {
     "data": {
      "image/png": "[encoded data removed]",
      "text/plain": [
       "<Figure size 432x288 with 1 Axes>"
      ]
     },
     "metadata": {
      "needs_background": "light"
     },
     "output_type": "display_data"
    }
   ],
   "source": [
    "means = means.flatten()\n",
    "var = cov.flatten()\n",
    "\n",
    "x = np.linspace(data.min(), data.max(), 100)\n",
    "fx0 = norm.pdf(x, means[0], np.sqrt(var[0]))\n",
    "fx1 = norm.pdf(x, means[1], np.sqrt(var[1]))\n",
    "fx = weights[0] * fx0 + weights[1] * fx1\n",
    "\n",
    "goog['log_return'].hist(bins=1000, density=True)\n",
    "plt.plot(x_list, fx, label='mixture model')\n",
    "plt.grid(False)\n",
    "sns.despine()\n",
    "plt.legend();"
   ]
  },
  {
   "cell_type": "markdown",
   "id": "21909d04",
   "metadata": {},
   "source": [
    "The property that GMM has heavy tail can better model the return distribution."
   ]
  },
  {
   "cell_type": "code",
   "execution_count": null,
   "id": "46c9afdc",
   "metadata": {},
   "outputs": [],
   "source": []
  }
 ],
 "metadata": {
  "kernelspec": {
   "display_name": "Python 3 (ipykernel)",
   "language": "python",
   "name": "python3"
  },
  "language_info": {
   "codemirror_mode": {
    "name": "ipython",
    "version": 3
   },
   "file_extension": ".py",
   "mimetype": "text/x-python",
   "name": "python",
   "nbconvert_exporter": "python",
   "pygments_lexer": "ipython3",
   "version": "3.9.7"
  }
 },
 "nbformat": 4,
 "nbformat_minor": 5
}
