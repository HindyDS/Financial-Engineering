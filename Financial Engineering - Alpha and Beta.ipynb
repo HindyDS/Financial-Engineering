{
 "cells": [
  {
   "cell_type": "code",
   "execution_count": 24,
   "id": "978e5e46",
   "metadata": {},
   "outputs": [],
   "source": [
    "import pandas_datareader as rd\n",
    "import matplotlib.pyplot as plt\n",
    "import seaborn as sns\n",
    "import numpy as np\n",
    "import pandas as pd\n",
    "from sklearn.linear_model import LinearRegression"
   ]
  },
  {
   "cell_type": "code",
   "execution_count": 21,
   "id": "448d443e",
   "metadata": {},
   "outputs": [],
   "source": [
    "# Get the stock quote\n",
    "aapl = rd.DataReader('AAPL', data_source='yahoo', start='1980-01-01', end='2021-01-01')\n",
    "spy = rd.DataReader('spy', data_source='yahoo', start='1980-01-01', end='2021-01-01')"
   ]
  },
  {
   "cell_type": "code",
   "execution_count": 32,
   "id": "d77fce75",
   "metadata": {},
   "outputs": [
    {
     "data": {
      "text/html": [
       "<div>\n",
       "<style scoped>\n",
       "    .dataframe tbody tr th:only-of-type {\n",
       "        vertical-align: middle;\n",
       "    }\n",
       "\n",
       "    .dataframe tbody tr th {\n",
       "        vertical-align: top;\n",
       "    }\n",
       "\n",
       "    .dataframe thead th {\n",
       "        text-align: right;\n",
       "    }\n",
       "</style>\n",
       "<table border=\"1\" class=\"dataframe\">\n",
       "  <thead>\n",
       "    <tr style=\"text-align: right;\">\n",
       "      <th></th>\n",
       "      <th>AAPL</th>\n",
       "      <th>SPY500</th>\n",
       "      <th>AAPL_ret</th>\n",
       "      <th>SPY500_ret</th>\n",
       "    </tr>\n",
       "    <tr>\n",
       "      <th>Date</th>\n",
       "      <th></th>\n",
       "      <th></th>\n",
       "      <th></th>\n",
       "      <th></th>\n",
       "    </tr>\n",
       "  </thead>\n",
       "  <tbody>\n",
       "    <tr>\n",
       "      <th>1993-01-29</th>\n",
       "      <td>0.531250</td>\n",
       "      <td>43.937500</td>\n",
       "      <td>NaN</td>\n",
       "      <td>NaN</td>\n",
       "    </tr>\n",
       "    <tr>\n",
       "      <th>1993-02-01</th>\n",
       "      <td>0.546875</td>\n",
       "      <td>44.250000</td>\n",
       "      <td>0.029412</td>\n",
       "      <td>0.007112</td>\n",
       "    </tr>\n",
       "    <tr>\n",
       "      <th>1993-02-02</th>\n",
       "      <td>0.537946</td>\n",
       "      <td>44.343750</td>\n",
       "      <td>-0.016327</td>\n",
       "      <td>0.002119</td>\n",
       "    </tr>\n",
       "    <tr>\n",
       "      <th>1993-02-03</th>\n",
       "      <td>0.535714</td>\n",
       "      <td>44.812500</td>\n",
       "      <td>-0.004149</td>\n",
       "      <td>0.010571</td>\n",
       "    </tr>\n",
       "    <tr>\n",
       "      <th>1993-02-04</th>\n",
       "      <td>0.531250</td>\n",
       "      <td>45.000000</td>\n",
       "      <td>-0.008333</td>\n",
       "      <td>0.004184</td>\n",
       "    </tr>\n",
       "    <tr>\n",
       "      <th>...</th>\n",
       "      <td>...</td>\n",
       "      <td>...</td>\n",
       "      <td>...</td>\n",
       "      <td>...</td>\n",
       "    </tr>\n",
       "    <tr>\n",
       "      <th>2020-12-24</th>\n",
       "      <td>131.970001</td>\n",
       "      <td>369.000000</td>\n",
       "      <td>0.007712</td>\n",
       "      <td>0.003890</td>\n",
       "    </tr>\n",
       "    <tr>\n",
       "      <th>2020-12-28</th>\n",
       "      <td>136.690002</td>\n",
       "      <td>372.170013</td>\n",
       "      <td>0.035766</td>\n",
       "      <td>0.008591</td>\n",
       "    </tr>\n",
       "    <tr>\n",
       "      <th>2020-12-29</th>\n",
       "      <td>134.869995</td>\n",
       "      <td>371.459991</td>\n",
       "      <td>-0.013315</td>\n",
       "      <td>-0.001908</td>\n",
       "    </tr>\n",
       "    <tr>\n",
       "      <th>2020-12-30</th>\n",
       "      <td>133.720001</td>\n",
       "      <td>371.989990</td>\n",
       "      <td>-0.008527</td>\n",
       "      <td>0.001427</td>\n",
       "    </tr>\n",
       "    <tr>\n",
       "      <th>2020-12-31</th>\n",
       "      <td>132.690002</td>\n",
       "      <td>373.880005</td>\n",
       "      <td>-0.007703</td>\n",
       "      <td>0.005081</td>\n",
       "    </tr>\n",
       "  </tbody>\n",
       "</table>\n",
       "<p>7033 rows × 4 columns</p>\n",
       "</div>"
      ],
      "text/plain": [
       "                  AAPL      SPY500  AAPL_ret  SPY500_ret\n",
       "Date                                                    \n",
       "1993-01-29    0.531250   43.937500       NaN         NaN\n",
       "1993-02-01    0.546875   44.250000  0.029412    0.007112\n",
       "1993-02-02    0.537946   44.343750 -0.016327    0.002119\n",
       "1993-02-03    0.535714   44.812500 -0.004149    0.010571\n",
       "1993-02-04    0.531250   45.000000 -0.008333    0.004184\n",
       "...                ...         ...       ...         ...\n",
       "2020-12-24  131.970001  369.000000  0.007712    0.003890\n",
       "2020-12-28  136.690002  372.170013  0.035766    0.008591\n",
       "2020-12-29  134.869995  371.459991 -0.013315   -0.001908\n",
       "2020-12-30  133.720001  371.989990 -0.008527    0.001427\n",
       "2020-12-31  132.690002  373.880005 -0.007703    0.005081\n",
       "\n",
       "[7033 rows x 4 columns]"
      ]
     },
     "execution_count": 32,
     "metadata": {},
     "output_type": "execute_result"
    }
   ],
   "source": [
    "# Merging the data\n",
    "joined = pd.merge(aapl[['Close']], spy[['Close']], left_index=True, right_index=True).rename(columns={'Close_x':'AAPL', 'Close_y':'SPY500'})\n",
    "joined['AAPL_ret'] = joined['AAPL'].pct_change(1)\n",
    "joined['SPY500_ret'] = joined['SPY500'].pct_change(1)\n",
    "joined"
   ]
  },
  {
   "cell_type": "code",
   "execution_count": 35,
   "id": "921b1105",
   "metadata": {},
   "outputs": [
    {
     "data": {
      "text/plain": [
       "LinearRegression()"
      ]
     },
     "execution_count": 35,
     "metadata": {},
     "output_type": "execute_result"
    }
   ],
   "source": [
    "# Get the return\n",
    "aapl_ret = aapl.Close.pct_change(1).dropna().to_numpy().reshape(-1, 1)\n",
    "spy_ret = spy.Close.pct_change(1).dropna().to_numpy().reshape(-1, 1)\n",
    "\n",
    "y = joined['AAPL_ret'].dropna().to_numpy().reshape(-1, 1)\n",
    "X = joined['SPY500_ret'].dropna().to_numpy().reshape(-1, 1)\n",
    "\n",
    "# Alpha modeling\n",
    "model = LinearRegression()\n",
    "model.fit(X, y)"
   ]
  },
  {
   "cell_type": "code",
   "execution_count": 37,
   "id": "21533c05",
   "metadata": {},
   "outputs": [],
   "source": [
    "X_predict = np.linspace(X.min(), X.max()).reshape(-1, 1)\n",
    "y_predict = model.predict(X_predict)"
   ]
  },
  {
   "cell_type": "code",
   "execution_count": 38,
   "id": "1a77c250",
   "metadata": {},
   "outputs": [
    {
     "data": {
      "image/png": "[encoded data removed]",
      "text/plain": [
       "<Figure size 432x288 with 1 Axes>"
      ]
     },
     "metadata": {
      "needs_background": "light"
     },
     "output_type": "display_data"
    }
   ],
   "source": [
    "plt.scatter(X, y);\n",
    "plt.xlabel('SPY');\n",
    "plt.ylabel('AAPL');\n",
    "plt.plot(X_predict, y_predict);\n",
    "\n",
    "sns.despine()"
   ]
  },
  {
   "cell_type": "code",
   "execution_count": 43,
   "id": "92125bab",
   "metadata": {},
   "outputs": [
    {
     "name": "stdout",
     "output_type": "stream",
     "text": [
      "Alpha of AAPL: 0.0007753689922875458\n",
      "Beta of AAPL: 1.0875944701105307\n"
     ]
    }
   ],
   "source": [
    "beta = model.coef_\n",
    "alpha = model.intercept_\n",
    "print(f'Alpha of AAPL: {alpha[0]}')\n",
    "print(f'Beta of AAPL: {beta[0][0]}')"
   ]
  },
  {
   "cell_type": "code",
   "execution_count": 45,
   "id": "b18c4792",
   "metadata": {},
   "outputs": [
    {
     "data": {
      "text/plain": [
       "AAPL_ret      0.027932\n",
       "SPY500_ret    0.011923\n",
       "dtype: float64"
      ]
     },
     "execution_count": 45,
     "metadata": {},
     "output_type": "execute_result"
    }
   ],
   "source": [
    "joined[['AAPL_ret', 'SPY500_ret']].std()"
   ]
  },
  {
   "cell_type": "code",
   "execution_count": 46,
   "id": "55bc985d",
   "metadata": {},
   "outputs": [
    {
     "data": {
      "text/plain": [
       "2.3426289419372917"
      ]
     },
     "execution_count": 46,
     "metadata": {},
     "output_type": "execute_result"
    }
   ],
   "source": [
    "# Volitility == std\n",
    "joined['AAPL_ret'].std() / joined['SPY500_ret'].std()"
   ]
  },
  {
   "cell_type": "code",
   "execution_count": null,
   "id": "465b6141",
   "metadata": {},
   "outputs": [],
   "source": []
  }
 ],
 "metadata": {
  "kernelspec": {
   "display_name": "Python 3 (ipykernel)",
   "language": "python",
   "name": "python3"
  },
  "language_info": {
   "codemirror_mode": {
    "name": "ipython",
    "version": 3
   },
   "file_extension": ".py",
   "mimetype": "text/x-python",
   "name": "python",
   "nbconvert_exporter": "python",
   "pygments_lexer": "ipython3",
   "version": "3.9.7"
  }
 },
 "nbformat": 4,
 "nbformat_minor": 5
}
