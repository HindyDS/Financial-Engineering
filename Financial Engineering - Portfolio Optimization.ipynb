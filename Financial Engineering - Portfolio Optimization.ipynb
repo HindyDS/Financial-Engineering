{
 "cells": [
  {
   "attachments": {},
   "cell_type": "markdown",
   "id": "4c156fe7",
   "metadata": {},
   "source": [
    "## Practically speaking, we usually start with a target risk, then maximize the return. Hence, the constraints become:\n",
    "\n",
    "> max<sub>w</sub> μ<sup>T</sup>W\n",
    "\n",
    "Alternatively,\n",
    "> max<sub>w</sub> μ<sup>T</sup>W - τw<sup>T</sup>Σw\n",
    "> <br>\n",
    "where τ is the Risk-Aversion parameter\n",
    "> <br>\n",
    "> <br>\n",
    "> Subject to w<sup>T</sup>Σw ≤ σ<sup>2</sup>\n",
    "> <br>\n",
    "> and 1<sub>D</sub><sup>T</sup>w = 1\n",
    "> <br>\n",
    "> (and w<sub>i</sub> ≥ 0, etc...)"
   ]
  },
  {
   "cell_type": "code",
   "execution_count": 339,
   "id": "e15a3e7a",
   "metadata": {},
   "outputs": [],
   "source": [
    "import matplotlib.pyplot as plt\n",
    "import pandas as pd\n",
    "import pandas_datareader as pdr\n",
    "import numpy as np\n",
    "from scipy.optimize import linprog\n",
    "from scipy.optimize import minimize"
   ]
  },
  {
   "cell_type": "code",
   "execution_count": 366,
   "id": "fcf201f5",
   "metadata": {},
   "outputs": [],
   "source": [
    "df = pd.read_csv('sp500sub.csv', index_col='Date', parse_dates=True)\n",
    "names = ['GOOG', 'SBUX', 'KSS', 'NEM']\n",
    "returns = pd.DataFrame()\n",
    "for name in names:\n",
    "    returns[name] = df[(df['Name'] == name) & (df.index >= '2014-01-02') & (df.index <= '2014-06-30')].Close.pct_change().dropna()"
   ]
  },
  {
   "cell_type": "code",
   "execution_count": 367,
   "id": "df975fda",
   "metadata": {},
   "outputs": [
    {
     "data": {
      "text/plain": [
       "4"
      ]
     },
     "execution_count": 367,
     "metadata": {},
     "output_type": "execute_result"
    }
   ],
   "source": [
    "# Mean return of each stock, also the coefficients of the linear objective function to be minimized.\n",
    "mean_return = returns.mean()\n",
    "\n",
    "cov = returns.cov()\n",
    "cov_np = cov.to_numpy()\n",
    "\n",
    "# D = Number of asset in porfolio\n",
    "D = len(mean_return) \n",
    "D"
   ]
  },
  {
   "cell_type": "code",
   "execution_count": 368,
   "id": "82f279ec",
   "metadata": {},
   "outputs": [
    {
     "data": {
      "text/plain": [
       "[(-0.5, None), (-0.5, None), (-0.5, None), (-0.5, None)]"
      ]
     },
     "execution_count": 368,
     "metadata": {},
     "output_type": "execute_result"
    }
   ],
   "source": [
    "A_eq = np.ones((1, D))\n",
    "b_eq = np.ones(1)\n",
    "\n",
    "### Note: The bounds are by default (0, None) unless otherwise specified.\n",
    "# bounds = None\n",
    "bounds = [(-0.5, None)] * D\n",
    "bounds"
   ]
  },
  {
   "cell_type": "code",
   "execution_count": 369,
   "id": "0327c03d",
   "metadata": {},
   "outputs": [
    {
     "data": {
      "text/plain": [
       "     con: array([-1.70635128e-09])\n",
       "     fun: -0.0019527242488783922\n",
       " message: 'Optimization terminated successfully.'\n",
       "     nit: 4\n",
       "   slack: array([], dtype=float64)\n",
       "  status: 0\n",
       " success: True\n",
       "       x: array([-0.49999958, -0.49999999,  2.4999991 , -0.49999954])"
      ]
     },
     "execution_count": 369,
     "metadata": {},
     "output_type": "execute_result"
    }
   ],
   "source": [
    "# minimize\n",
    "res = linprog(mean_return, A_eq=A_eq,  b_eq=b_eq, bounds=bounds)\n",
    "res"
   ]
  },
  {
   "cell_type": "code",
   "execution_count": 370,
   "id": "aa606951",
   "metadata": {},
   "outputs": [
    {
     "name": "stdout",
     "output_type": "stream",
     "text": [
      "Minimum Return: -0.19527242488783922\n",
      "Maximum Return: 0.19527242488783922\n"
     ]
    }
   ],
   "source": [
    "min_return, max_return = res.fun, -res.fun\n",
    "print(f\"Minimum Return: {min_return * 100}\\nMaximum Return: {max_return * 100}\")\n",
    "\n",
    "# Walk through every possible return.\n",
    "N = 100\n",
    "target_returns = np.linspace(min_return, max_return, num=N)"
   ]
  },
  {
   "cell_type": "code",
   "execution_count": 371,
   "id": "25474cf9",
   "metadata": {},
   "outputs": [],
   "source": [
    "# Objective (variance) that will be minimized. It should return the variance of our portfolio.\n",
    "def get_portfolio_variance(weights):\n",
    "    return weights.dot(cov).dot(weights)\n",
    "\n",
    "# Represent the equality constraint of the target return. It should return zero when the constraint is met.\n",
    "def target_return_constraint(weights, target):\n",
    "    # weights.dot(mean_return) = Portfolio Return\n",
    "    return weights.dot(mean_return) - target\n",
    "\n",
    "# Represent the portfolio constraint that all weights must sum up to one.\n",
    "def portfolio_constraint(weights):\n",
    "    return weights.sum() - 1"
   ]
  },
  {
   "cell_type": "code",
   "execution_count": 372,
   "id": "d118705a",
   "metadata": {},
   "outputs": [],
   "source": [
    "constraints = [\n",
    "    {\n",
    "        'type': 'eq',                    # Since it's a equality constraint, we pass 'eq' into 'type'.\n",
    "        'fun': target_return_constraint, # Function that represent our target return constraint\n",
    "        'args': [target_returns[0]],     # will be updated in loop\n",
    "    },\n",
    "    {\n",
    "        'type': 'eq',                    # Since it's a equality constraint, we pass 'eq' into 'type'.\n",
    "        'fun': portfolio_constraint,     # Function that represent our portfolio constraint\n",
    "    }\n",
    "]"
   ]
  },
  {
   "cell_type": "code",
   "execution_count": 373,
   "id": "79d203df",
   "metadata": {},
   "outputs": [
    {
     "data": {
      "text/plain": [
       "     fun: 0.0013436564477305496\n",
       "     jac: array([ 0.00025903,  0.00028368,  0.00077974, -0.00097549])\n",
       " message: 'Optimization terminated successfully'\n",
       "    nfev: 10\n",
       "     nit: 2\n",
       "    njev: 2\n",
       "  status: 0\n",
       " success: True\n",
       "       x: array([-0.28283314,  0.42134116,  1.98345652, -1.12196454])"
      ]
     },
     "execution_count": 373,
     "metadata": {},
     "output_type": "execute_result"
    }
   ],
   "source": [
    "# Without bounds\n",
    "res = minimize(\n",
    "    fun=get_portfolio_variance,\n",
    "    x0=np.ones(D) / D, # uniform, start point array, initial guess for the weights\n",
    "    method='SLSQP',\n",
    "    constraints=constraints\n",
    ")\n",
    "res"
   ]
  },
  {
   "cell_type": "markdown",
   "id": "ef680170",
   "metadata": {},
   "source": [
    "Since the first asset was shorted for over 200%, let's try to apply bounds to the weights."
   ]
  },
  {
   "cell_type": "code",
   "execution_count": 374,
   "id": "7d3d2c3b",
   "metadata": {},
   "outputs": [
    {
     "data": {
      "text/plain": [
       "     fun: 0.0011226587630310684\n",
       "     jac: array([ 8.53424426e-05,  8.07610340e-05,  8.46259994e-04, -4.25440914e-04])\n",
       " message: 'Optimization terminated successfully'\n",
       "    nfev: 10\n",
       "     nit: 2\n",
       "    njev: 2\n",
       "  status: 0\n",
       " success: True\n",
       "       x: array([-0.5       , -0.49999847,  2.49999847, -0.5       ])"
      ]
     },
     "execution_count": 374,
     "metadata": {},
     "output_type": "execute_result"
    }
   ],
   "source": [
    "res = minimize(\n",
    "    fun=get_portfolio_variance,\n",
    "    x0=np.ones(D) / D,\n",
    "    method='SLSQP',\n",
    "    constraints=constraints,\n",
    "    bounds=bounds\n",
    ")\n",
    "res"
   ]
  },
  {
   "cell_type": "markdown",
   "id": "239cb3f8",
   "metadata": {},
   "source": [
    "As we can see they are limited by the bounds. We also get a higher variance due to the bounds."
   ]
  },
  {
   "cell_type": "code",
   "execution_count": 375,
   "id": "b4e0d403",
   "metadata": {
    "scrolled": true
   },
   "outputs": [
    {
     "name": "stdout",
     "output_type": "stream",
     "text": [
      "     fun: 0.0031398628623795716\n",
      "     jac: array([-0.00039788, -0.00012332, -0.00026107,  0.00235544])\n",
      " message: 'Positive directional derivative for linesearch'\n",
      "    nfev: 21\n",
      "     nit: 7\n",
      "    njev: 3\n",
      "  status: 8\n",
      " success: False\n",
      "       x: array([-0.5, -0.5, -0.5,  2.5])\n",
      "     fun: 0.0031398628623797616\n",
      "     jac: array([-0.00039788, -0.00012332, -0.00026107,  0.00235544])\n",
      " message: 'Positive directional derivative for linesearch'\n",
      "    nfev: 298\n",
      "     nit: 30\n",
      "    njev: 26\n",
      "  status: 8\n",
      " success: False\n",
      "       x: array([-0.5, -0.5, -0.5,  2.5])\n",
      "     fun: 0.003139862862379615\n",
      "     jac: array([-0.00039788, -0.00012332, -0.00026107,  0.00235544])\n",
      " message: 'Positive directional derivative for linesearch'\n",
      "    nfev: 92\n",
      "     nit: 13\n",
      "    njev: 9\n",
      "  status: 8\n",
      " success: False\n",
      "       x: array([-0.5, -0.5, -0.5,  2.5])\n"
     ]
    }
   ],
   "source": [
    "# list to store our risks\n",
    "optimized_risks = []\n",
    "\n",
    "# Go through each return to get the efficient frontier\n",
    "for target in target_returns: \n",
    "    # set target return constraint\n",
    "    constraints[0]['args'] = [target] # 'args': [target_returns[0]], update constraints from target_returns\n",
    "    \n",
    "    res = minimize(\n",
    "              fun=get_portfolio_variance,\n",
    "              x0=np.ones(D) / D,\n",
    "              method='SLSQP',\n",
    "              constraints=constraints,\n",
    "              bounds=bounds\n",
    "    )\n",
    "    optimized_risks.append(np.sqrt(res.fun))\n",
    "    if res.status != 0:\n",
    "        print(res)"
   ]
  },
  {
   "cell_type": "code",
   "execution_count": 396,
   "id": "1ce8def0",
   "metadata": {},
   "outputs": [],
   "source": [
    "N = 100000\n",
    "D = len(mean_return)\n",
    "returns = np.zeros(N)\n",
    "risks = np.zeros(N)\n",
    "random_weights = []\n",
    "for i in range(N):\n",
    "    rand_range = 1.0\n",
    "    w = np.random.random(D)*rand_range - rand_range / 2 # with short-selling\n",
    "    w[-1] = 1 - w[:-1].sum()\n",
    "    np.random.shuffle(w)\n",
    "    random_weights.append(w)\n",
    "    ret = mean_return.dot(w)\n",
    "    risk = np.sqrt(w.dot(cov_np).dot(w))\n",
    "    returns[i] = ret\n",
    "    risks[i] = risk"
   ]
  },
  {
   "cell_type": "code",
   "execution_count": 397,
   "id": "cf285857",
   "metadata": {},
   "outputs": [
    {
     "data": {
      "image/png": "[encoded data removed]",
      "text/plain": [
       "<Figure size 432x288 with 1 Axes>"
      ]
     },
     "metadata": {
      "needs_background": "light"
     },
     "output_type": "display_data"
    }
   ],
   "source": [
    "plt.scatter(risks, returns, alpha=0.1);\n",
    "plt.plot(optimized_risks, target_returns, c='black')\n",
    "plt.show()"
   ]
  },
  {
   "cell_type": "markdown",
   "id": "6fa803c5",
   "metadata": {},
   "source": [
    "# Global Mimimum Variance (GMV)\n",
    "To find GMV, we need minimize the \n",
    "\n",
    "> min<sub>w</sub> w<sup>T</sup>Σw\n",
    "<br>\n",
    "> Subject to 1<sub>D</sub><sup>T</sup>w = 1\n",
    "<br>\n",
    "> (and w<sub>i</sub> ≥ 0, etc...)"
   ]
  },
  {
   "cell_type": "code",
   "execution_count": 398,
   "id": "b0419f4e",
   "metadata": {},
   "outputs": [
    {
     "data": {
      "text/plain": [
       "     fun: 0.00010178684574496094\n",
       "     jac: array([0.00018886, 0.000174  , 0.00018463, 0.00026681])\n",
       " message: 'Optimization terminated successfully'\n",
       "    nfev: 5\n",
       "     nit: 1\n",
       "    njev: 1\n",
       "  status: 0\n",
       " success: True\n",
       "       x: array([0.25, 0.25, 0.25, 0.25])"
      ]
     },
     "execution_count": 398,
     "metadata": {},
     "output_type": "execute_result"
    }
   ],
   "source": [
    "res = minimize(\n",
    "    fun=get_portfolio_variance,          # The objective that we minimize is the variance \n",
    "    x0=np.ones(D) / D,\n",
    "    method='SLSQP',\n",
    "    constraints={\n",
    "        'type': 'eq',                    # Since it's a equality constraint, we pass 'eq' into 'type'.\n",
    "        'fun': portfolio_constraint,     # Function that represent our portfolio constraint (All weights sum up to 1)\n",
    "    },\n",
    "    bounds=bounds\n",
    ")\n",
    "res"
   ]
  },
  {
   "cell_type": "code",
   "execution_count": 399,
   "id": "614a611f",
   "metadata": {},
   "outputs": [],
   "source": [
    "mv_risk = np.sqrt(res.fun)\n",
    "mv_weights = res.x\n",
    "mv_ret = mv_weights.dot(mean_return)"
   ]
  },
  {
   "cell_type": "code",
   "execution_count": 400,
   "id": "ae91ab5d",
   "metadata": {},
   "outputs": [
    {
     "data": {
      "image/png": "[encoded data removed]",
      "text/plain": [
       "<Figure size 432x288 with 1 Axes>"
      ]
     },
     "metadata": {
      "needs_background": "light"
     },
     "output_type": "display_data"
    }
   ],
   "source": [
    "plt.scatter(risks, returns, alpha=.1)\n",
    "plt.plot(optimized_risks, target_returns, c='black')\n",
    "plt.scatter([mv_risk], [mv_ret], c='red')\n",
    "plt.show()"
   ]
  },
  {
   "cell_type": "markdown",
   "id": "92480256",
   "metadata": {},
   "source": [
    "### Sharpe Ratio\n",
    "Sharpe ratio = Excess return per unit risk\n",
    "\n",
    "> SR = (E(R<sub>p</sub>) - r<sub>f</sub>) / σ<sub>p</sub>\n",
    "> <br>\n",
    "> where r<sub>f</sub> is the Risk-free rate\n",
    "\n",
    "In practice, risk-free rate is usually set to be the interest rate on the 3-month Treasury Bill (T-Bill) in the US.\n",
    "<br>\n",
    "Since the T-Bill is close to zero, risk-free rate is just set to zero."
   ]
  },
  {
   "cell_type": "code",
   "execution_count": 401,
   "id": "aab52680",
   "metadata": {},
   "outputs": [],
   "source": [
    "# Minimize negative sharpe ratio = Maximize sharpe ratio \n",
    "def negative_sharpe_ratio(weights):\n",
    "    mean = weights.dot(mean_return)\n",
    "    sd = weights.dot(cov).dot(weights)\n",
    "    return -(mean - risk_free_rate) / sd"
   ]
  },
  {
   "cell_type": "code",
   "execution_count": 402,
   "id": "fc29530c",
   "metadata": {},
   "outputs": [],
   "source": [
    "# https://fred.stlouisfed.org/series/TB3MS\n",
    "risk_free_rate = 0.03 / 252 # daily"
   ]
  },
  {
   "cell_type": "code",
   "execution_count": 403,
   "id": "0cc548d9",
   "metadata": {},
   "outputs": [
    {
     "data": {
      "text/plain": [
       "     fun: -0.550974580530174\n",
       "     jac: array([-0.19304433, -0.05334585,  0.12551273,  0.18104838])\n",
       " message: 'Positive directional derivative for linesearch'\n",
       "    nfev: 277\n",
       "     nit: 30\n",
       "    njev: 26\n",
       "  status: 8\n",
       " success: False\n",
       "       x: array([-0.5, -0.5, -0.5,  2.5])"
      ]
     },
     "execution_count": 403,
     "metadata": {},
     "output_type": "execute_result"
    }
   ],
   "source": [
    "res = minimize(\n",
    "    fun=negative_sharpe_ratio, \n",
    "    x0=np.ones(D) / D, \n",
    "    method='SLSQP', \n",
    "    constraints=constraints, \n",
    "    bounds=bounds\n",
    ")\n",
    "res"
   ]
  },
  {
   "cell_type": "code",
   "execution_count": 404,
   "id": "a27ab13f",
   "metadata": {},
   "outputs": [],
   "source": [
    "best_w = res.x"
   ]
  },
  {
   "cell_type": "code",
   "execution_count": 405,
   "id": "6a658f6b",
   "metadata": {},
   "outputs": [],
   "source": [
    "# found by optimization\n",
    "opt_risk = np.sqrt(best_w.dot(cov).dot(best_w))\n",
    "opt_ret = mean_return.dot(best_w)"
   ]
  },
  {
   "cell_type": "code",
   "execution_count": 406,
   "id": "4b6f8826",
   "metadata": {},
   "outputs": [
    {
     "name": "stdout",
     "output_type": "stream",
     "text": [
      "[ 0.93158922  0.0690331  -0.49287255  0.49225023] 0.05178466901655441\n"
     ]
    }
   ],
   "source": [
    "mc_best_w = None\n",
    "mc_best_sr = float('-inf')\n",
    "for i, (risk, ret) in enumerate(zip(risks, returns)):\n",
    "    sr = (ret - risk_free_rate) / risk\n",
    "    if sr > mc_best_sr:\n",
    "        mc_best_sr = sr\n",
    "        mc_best_w = random_weights[i]\n",
    "print(mc_best_w, mc_best_sr)\n",
    "\n",
    "# found by optimization\n",
    "opt_risk = np.sqrt(mc_best_w.dot(cov).dot(mc_best_w))\n",
    "opt_ret = mean_return.dot(mc_best_w)"
   ]
  },
  {
   "cell_type": "code",
   "execution_count": 407,
   "id": "dd7b3b29",
   "metadata": {},
   "outputs": [
    {
     "data": {
      "image/png": "[encoded data removed]",
      "text/plain": [
       "<Figure size 432x288 with 1 Axes>"
      ]
     },
     "metadata": {
      "needs_background": "light"
     },
     "output_type": "display_data"
    }
   ],
   "source": [
    "plt.scatter(risks, returns, alpha=.1)\n",
    "plt.plot(optimized_risks, target_returns, c='black')\n",
    "plt.scatter([mv_risk], [mv_ret], c='red')\n",
    "plt.scatter([opt_risk], [opt_ret], c='orange')\n",
    "plt.show()"
   ]
  },
  {
   "cell_type": "markdown",
   "id": "f898c0fa",
   "metadata": {},
   "source": [
    "# Risk-free asset with tangency portfolio"
   ]
  },
  {
   "cell_type": "code",
   "execution_count": 483,
   "id": "6534c4da",
   "metadata": {},
   "outputs": [],
   "source": [
    "# Extending the tangency line with linear eq.\n",
    "m = (opt_ret - risk_free_rate) / (opt_risk - 0) \n",
    "c = returns[np.argmin(risks)]\n",
    "y = m * np.insert(risks, 0, 0) + c"
   ]
  },
  {
   "cell_type": "code",
   "execution_count": 486,
   "id": "593353c7",
   "metadata": {},
   "outputs": [
    {
     "data": {
      "image/png": "[encoded data removed]",
      "text/plain": [
       "<Figure size 432x288 with 1 Axes>"
      ]
     },
     "metadata": {
      "needs_background": "light"
     },
     "output_type": "display_data"
    }
   ],
   "source": [
    "plt.scatter(risks, returns, alpha=.1)\n",
    "plt.plot(optimized_risks, target_returns, c='black')\n",
    "plt.scatter([mv_risk], [mv_ret], c='red')\n",
    "plt.scatter([opt_risk], [opt_ret], c='orange')\n",
    "\n",
    "# tangent line\n",
    "plt.plot(np.insert(risks, 0, 0), y)\n",
    "plt.show()"
   ]
  },
  {
   "cell_type": "markdown",
   "id": "575acb95",
   "metadata": {},
   "source": [
    "# Capital Asset Pricing Model (CAPM)\n",
    "<br>\n",
    "Tangency Portfolio = Market Portfolio\n",
    "<br>\n",
    "Tangency Line = Capital Market Line\n",
    "<br>\n",
    "Return: R<sub>M</sub>\n",
    "<br>\n",
    "Expected Return: μ<sub>M</sub>\n",
    "<br>\n",
    "Risk: σ<sub>M</sub>\n",
    "\n",
    "CAPM: r<sub>f</sub> + σ(μ<sub>M</sub> - r<sub>f</sub>) / σ<sub>M</sub>\n",
    "<br>\n",
    "If Expected Return on Investment < CAPM, then it is not worth to invest, since investing in the market yields higher return for this level of risk.\n",
    "\n",
    "### Security Market Line (SML)\n",
    "<br>\n",
    "\n",
    "> μ<sub>i</sub> - r<sub>f</sub> = β<sub>i</sub>(μ<sub>M</sub> - r<sub>f</sub>)\n",
    "> <br>\n",
    "> <br>\n",
    "> where β<sub>i</sub> is Systematic risk or Market risk\n",
    "> <br>\n",
    "> μ<sub>i</sub> - r<sub>f</sub> is Risk premium\n",
    "> <br>\n",
    "> μ<sub>M</sub> - r<sub>f</sub> is Market premium (Excess return of the market)\n",
    "> <br>\n",
    "> <br>\n",
    "> Beta tell us how much the asset i moves relative to the market\n",
    "> <br>\n",
    "> - β > 1: aggressive\n",
    "> <br>\n",
    "> - β = 1: averge risk\n",
    "> <br>\n",
    "> - β > 1: not aggressive\n",
    "\n",
    "According to CAPM, all assets should fall on this line, otherwise it's mispriced.\n",
    "<br>\n",
    "If it is above the CAPM, then it is overbought. Otherwise, it's oversell.\n",
    "\n",
    "### Security Characteristic Line\n",
    "<br>\n",
    "- Adds a time index to the SML and remove expected values\n",
    "<br>\n",
    "\n",
    "> R<sub>i</sub>(t) - r<sub>f</sub>(t) = β<sub>i</sub>{R<sub>M</sub>(t) - r<sub>f</sub>(t)} + ε<sub>i</sub>(t)\n",
    "<br>\n",
    "<br>\n",
    "- Represent excess returns with a single symbol (denoted by '):\n",
    "<br>\n",
    "<br>\n",
    "\n",
    "> R<sub>i</sub>'(t) = β<sub>i</sub>R<sub>M</sub>'(t) + ε<sub>i</sub>(t)\n",
    "\n",
    "### Including Alpha\n",
    "<br>\n",
    "\n",
    "> R<sub>i</sub>'(t) = α<sub>i</sub> + β<sub>i</sub>R<sub>M</sub>'(t) + ε<sub>i</sub>(t)\n",
    "> <br>\n",
    "> <br>\n",
    "> where α<sub>i</sub> is the excess return \n",
    "> <br>\n",
    "> If α != 0, the security is mispriced\n",
    "> If α > 0, the security is underpriced\n",
    "> - The returns have been too large on average\n",
    "> - This is a \"buy\" signal\n",
    "\n",
    "### Assumptions of CAPM (That's not true):\n",
    "\n",
    "- Markets are in equilibrium (supply equals demand)\n",
    "- Every investor has the same forecasts of returns and risks\n",
    "- Every investor is a mean-variance optimizer (holds a combination of tangency portfolio and risk-free asset)\n",
    "- Since the tangency portfolio is held by every investors under this model, it becomes the market portfolio \n",
    "\n",
    "### Problems with Modern Portfolio Theory\n",
    "<br>\n",
    "- We don't know the expected return / covariance \n",
    "<br>\n",
    "- We have two approaches:\n",
    "<br>\n",
    "\n",
    "> 1) Estimate based on historical returns\n",
    "<br>\n",
    "> > a) Sounds bad, but not uncommon\n",
    "<br>\n",
    "b) Common advanced techniques are based on this\n",
    "<br>\n",
    "\n",
    "> 2) Use machine learning\n",
    "<br>\n",
    "> > a) May include all kinds of data on top of returns (fundamentals, public, private)\n",
    "<br>\n",
    "b) Important to test whether it performs better than baseline\n",
    "<br>\n",
    "\n",
    "### Robust Estimation Techniques:\n",
    "<br>\n",
    "1) Boostrapping\n",
    "<br>\n",
    "2) Shrinkage Estimation\n",
    "<br>\n",
    "3) Black-Litterman\n",
    "<br>"
   ]
  },
  {
   "cell_type": "code",
   "execution_count": null,
   "id": "01ed5219",
   "metadata": {},
   "outputs": [],
   "source": []
  }
 ],
 "metadata": {
  "kernelspec": {
   "display_name": "Python 3 (ipykernel)",
   "language": "python",
   "name": "python3"
  },
  "language_info": {
   "codemirror_mode": {
    "name": "ipython",
    "version": 3
   },
   "file_extension": ".py",
   "mimetype": "text/x-python",
   "name": "python",
   "nbconvert_exporter": "python",
   "pygments_lexer": "ipython3",
   "version": "3.9.7"
  }
 },
 "nbformat": 4,
 "nbformat_minor": 5
}
