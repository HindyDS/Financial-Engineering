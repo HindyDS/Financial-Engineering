{
 "cells": [
  {
   "cell_type": "code",
   "execution_count": 60,
   "id": "084d339b",
   "metadata": {},
   "outputs": [],
   "source": [
    "import pandas_datareader as rd\n",
    "import matplotlib.pyplot as plt\n",
    "import seaborn as sns\n",
    "import numpy as np\n",
    "from scipy.stats import norm\n",
    "from scipy.stats import probplot\n",
    "from scipy.stats import t\n",
    "from scipy.stats import jarque_bera, normaltest\n",
    "from scipy.stats import kstest\n",
    "from scipy.stats import ttest_1samp"
   ]
  },
  {
   "cell_type": "code",
   "execution_count": 4,
   "id": "98c9202c",
   "metadata": {},
   "outputs": [
    {
     "data": {
      "text/html": [
       "<div>\n",
       "<style scoped>\n",
       "    .dataframe tbody tr th:only-of-type {\n",
       "        vertical-align: middle;\n",
       "    }\n",
       "\n",
       "    .dataframe tbody tr th {\n",
       "        vertical-align: top;\n",
       "    }\n",
       "\n",
       "    .dataframe thead th {\n",
       "        text-align: right;\n",
       "    }\n",
       "</style>\n",
       "<table border=\"1\" class=\"dataframe\">\n",
       "  <thead>\n",
       "    <tr style=\"text-align: right;\">\n",
       "      <th></th>\n",
       "      <th>High</th>\n",
       "      <th>Low</th>\n",
       "      <th>Open</th>\n",
       "      <th>Close</th>\n",
       "      <th>Volume</th>\n",
       "      <th>Adj Close</th>\n",
       "    </tr>\n",
       "    <tr>\n",
       "      <th>Date</th>\n",
       "      <th></th>\n",
       "      <th></th>\n",
       "      <th></th>\n",
       "      <th></th>\n",
       "      <th></th>\n",
       "      <th></th>\n",
       "    </tr>\n",
       "  </thead>\n",
       "  <tbody>\n",
       "    <tr>\n",
       "      <th>1980-12-12</th>\n",
       "      <td>0.128906</td>\n",
       "      <td>0.128348</td>\n",
       "      <td>0.128348</td>\n",
       "      <td>0.128348</td>\n",
       "      <td>469033600.0</td>\n",
       "      <td>0.100323</td>\n",
       "    </tr>\n",
       "    <tr>\n",
       "      <th>1980-12-15</th>\n",
       "      <td>0.122210</td>\n",
       "      <td>0.121652</td>\n",
       "      <td>0.122210</td>\n",
       "      <td>0.121652</td>\n",
       "      <td>175884800.0</td>\n",
       "      <td>0.095089</td>\n",
       "    </tr>\n",
       "    <tr>\n",
       "      <th>1980-12-16</th>\n",
       "      <td>0.113281</td>\n",
       "      <td>0.112723</td>\n",
       "      <td>0.113281</td>\n",
       "      <td>0.112723</td>\n",
       "      <td>105728000.0</td>\n",
       "      <td>0.088110</td>\n",
       "    </tr>\n",
       "    <tr>\n",
       "      <th>1980-12-17</th>\n",
       "      <td>0.116071</td>\n",
       "      <td>0.115513</td>\n",
       "      <td>0.115513</td>\n",
       "      <td>0.115513</td>\n",
       "      <td>86441600.0</td>\n",
       "      <td>0.090291</td>\n",
       "    </tr>\n",
       "    <tr>\n",
       "      <th>1980-12-18</th>\n",
       "      <td>0.119420</td>\n",
       "      <td>0.118862</td>\n",
       "      <td>0.118862</td>\n",
       "      <td>0.118862</td>\n",
       "      <td>73449600.0</td>\n",
       "      <td>0.092908</td>\n",
       "    </tr>\n",
       "    <tr>\n",
       "      <th>...</th>\n",
       "      <td>...</td>\n",
       "      <td>...</td>\n",
       "      <td>...</td>\n",
       "      <td>...</td>\n",
       "      <td>...</td>\n",
       "      <td>...</td>\n",
       "    </tr>\n",
       "    <tr>\n",
       "      <th>2020-12-24</th>\n",
       "      <td>133.460007</td>\n",
       "      <td>131.100006</td>\n",
       "      <td>131.320007</td>\n",
       "      <td>131.970001</td>\n",
       "      <td>54930100.0</td>\n",
       "      <td>130.994507</td>\n",
       "    </tr>\n",
       "    <tr>\n",
       "      <th>2020-12-28</th>\n",
       "      <td>137.339996</td>\n",
       "      <td>133.509995</td>\n",
       "      <td>133.990005</td>\n",
       "      <td>136.690002</td>\n",
       "      <td>124486200.0</td>\n",
       "      <td>135.679657</td>\n",
       "    </tr>\n",
       "    <tr>\n",
       "      <th>2020-12-29</th>\n",
       "      <td>138.789993</td>\n",
       "      <td>134.339996</td>\n",
       "      <td>138.050003</td>\n",
       "      <td>134.869995</td>\n",
       "      <td>121047300.0</td>\n",
       "      <td>133.873077</td>\n",
       "    </tr>\n",
       "    <tr>\n",
       "      <th>2020-12-30</th>\n",
       "      <td>135.990005</td>\n",
       "      <td>133.399994</td>\n",
       "      <td>135.580002</td>\n",
       "      <td>133.720001</td>\n",
       "      <td>96452100.0</td>\n",
       "      <td>132.731583</td>\n",
       "    </tr>\n",
       "    <tr>\n",
       "      <th>2020-12-31</th>\n",
       "      <td>134.740005</td>\n",
       "      <td>131.720001</td>\n",
       "      <td>134.080002</td>\n",
       "      <td>132.690002</td>\n",
       "      <td>99116600.0</td>\n",
       "      <td>131.709198</td>\n",
       "    </tr>\n",
       "  </tbody>\n",
       "</table>\n",
       "<p>10100 rows × 6 columns</p>\n",
       "</div>"
      ],
      "text/plain": [
       "                  High         Low        Open       Close       Volume  \\\n",
       "Date                                                                      \n",
       "1980-12-12    0.128906    0.128348    0.128348    0.128348  469033600.0   \n",
       "1980-12-15    0.122210    0.121652    0.122210    0.121652  175884800.0   \n",
       "1980-12-16    0.113281    0.112723    0.113281    0.112723  105728000.0   \n",
       "1980-12-17    0.116071    0.115513    0.115513    0.115513   86441600.0   \n",
       "1980-12-18    0.119420    0.118862    0.118862    0.118862   73449600.0   \n",
       "...                ...         ...         ...         ...          ...   \n",
       "2020-12-24  133.460007  131.100006  131.320007  131.970001   54930100.0   \n",
       "2020-12-28  137.339996  133.509995  133.990005  136.690002  124486200.0   \n",
       "2020-12-29  138.789993  134.339996  138.050003  134.869995  121047300.0   \n",
       "2020-12-30  135.990005  133.399994  135.580002  133.720001   96452100.0   \n",
       "2020-12-31  134.740005  131.720001  134.080002  132.690002   99116600.0   \n",
       "\n",
       "             Adj Close  \n",
       "Date                    \n",
       "1980-12-12    0.100323  \n",
       "1980-12-15    0.095089  \n",
       "1980-12-16    0.088110  \n",
       "1980-12-17    0.090291  \n",
       "1980-12-18    0.092908  \n",
       "...                ...  \n",
       "2020-12-24  130.994507  \n",
       "2020-12-28  135.679657  \n",
       "2020-12-29  133.873077  \n",
       "2020-12-30  132.731583  \n",
       "2020-12-31  131.709198  \n",
       "\n",
       "[10100 rows x 6 columns]"
      ]
     },
     "execution_count": 4,
     "metadata": {},
     "output_type": "execute_result"
    }
   ],
   "source": [
    "#Get the stock quote\n",
    "apple = rd.DataReader('AAPL', data_source='yahoo', start='1980-01-01', end='2021-01-01')\n",
    "apple"
   ]
  },
  {
   "cell_type": "code",
   "execution_count": 5,
   "id": "1f6c9be2",
   "metadata": {},
   "outputs": [
    {
     "name": "stdout",
     "output_type": "stream",
     "text": [
      "<class 'pandas.core.frame.DataFrame'>\n",
      "DatetimeIndex: 10100 entries, 1980-12-12 to 2020-12-31\n",
      "Data columns (total 6 columns):\n",
      " #   Column     Non-Null Count  Dtype  \n",
      "---  ------     --------------  -----  \n",
      " 0   High       10100 non-null  float64\n",
      " 1   Low        10100 non-null  float64\n",
      " 2   Open       10100 non-null  float64\n",
      " 3   Close      10100 non-null  float64\n",
      " 4   Volume     10100 non-null  float64\n",
      " 5   Adj Close  10100 non-null  float64\n",
      "dtypes: float64(6)\n",
      "memory usage: 552.3 KB\n"
     ]
    }
   ],
   "source": [
    "apple.info()"
   ]
  },
  {
   "cell_type": "code",
   "execution_count": 6,
   "id": "2494fbe2",
   "metadata": {},
   "outputs": [
    {
     "data": {
      "text/plain": [
       "High         0\n",
       "Low          0\n",
       "Open         0\n",
       "Close        0\n",
       "Volume       0\n",
       "Adj Close    0\n",
       "dtype: int64"
      ]
     },
     "execution_count": 6,
     "metadata": {},
     "output_type": "execute_result"
    }
   ],
   "source": [
    "apple.isnull().sum()"
   ]
  },
  {
   "cell_type": "code",
   "execution_count": 15,
   "id": "ef3cedd2",
   "metadata": {},
   "outputs": [
    {
     "data": {
      "image/png": "[encoded data removed]",
      "text/plain": [
       "<Figure size 864x576 with 1 Axes>"
      ]
     },
     "metadata": {
      "needs_background": "light"
     },
     "output_type": "display_data"
    }
   ],
   "source": [
    "fig, ax = plt.subplots(figsize=(12,8))\n",
    "apple['Close'].plot()\n",
    "\n",
    "plt.legend(['Closing Price of Apple.inc USD ($)',],\n",
    "           bbox_to_anchor=(1.05, 1), loc='upper left')\n",
    "\n",
    "plt.xlabel('Date')\n",
    "plt.ylabel('Closing Price USD ($)')\n",
    "sns.despine();"
   ]
  },
  {
   "cell_type": "code",
   "execution_count": 18,
   "id": "150d7331",
   "metadata": {},
   "outputs": [
    {
     "data": {
      "text/html": [
       "<div>\n",
       "<style scoped>\n",
       "    .dataframe tbody tr th:only-of-type {\n",
       "        vertical-align: middle;\n",
       "    }\n",
       "\n",
       "    .dataframe tbody tr th {\n",
       "        vertical-align: top;\n",
       "    }\n",
       "\n",
       "    .dataframe thead th {\n",
       "        text-align: right;\n",
       "    }\n",
       "</style>\n",
       "<table border=\"1\" class=\"dataframe\">\n",
       "  <thead>\n",
       "    <tr style=\"text-align: right;\">\n",
       "      <th></th>\n",
       "      <th>High</th>\n",
       "      <th>Low</th>\n",
       "      <th>Open</th>\n",
       "      <th>Close</th>\n",
       "      <th>Volume</th>\n",
       "      <th>Adj Close</th>\n",
       "      <th>prev_close</th>\n",
       "      <th>stock_return</th>\n",
       "      <th>logged_stock_return</th>\n",
       "    </tr>\n",
       "    <tr>\n",
       "      <th>Date</th>\n",
       "      <th></th>\n",
       "      <th></th>\n",
       "      <th></th>\n",
       "      <th></th>\n",
       "      <th></th>\n",
       "      <th></th>\n",
       "      <th></th>\n",
       "      <th></th>\n",
       "      <th></th>\n",
       "    </tr>\n",
       "  </thead>\n",
       "  <tbody>\n",
       "    <tr>\n",
       "      <th>1980-12-12</th>\n",
       "      <td>0.128906</td>\n",
       "      <td>0.128348</td>\n",
       "      <td>0.128348</td>\n",
       "      <td>0.128348</td>\n",
       "      <td>469033600.0</td>\n",
       "      <td>0.100323</td>\n",
       "      <td>NaN</td>\n",
       "      <td>NaN</td>\n",
       "      <td>NaN</td>\n",
       "    </tr>\n",
       "    <tr>\n",
       "      <th>1980-12-15</th>\n",
       "      <td>0.122210</td>\n",
       "      <td>0.121652</td>\n",
       "      <td>0.122210</td>\n",
       "      <td>0.121652</td>\n",
       "      <td>175884800.0</td>\n",
       "      <td>0.095089</td>\n",
       "      <td>0.128348</td>\n",
       "      <td>-0.052171</td>\n",
       "      <td>-0.053581</td>\n",
       "    </tr>\n",
       "    <tr>\n",
       "      <th>1980-12-16</th>\n",
       "      <td>0.113281</td>\n",
       "      <td>0.112723</td>\n",
       "      <td>0.113281</td>\n",
       "      <td>0.112723</td>\n",
       "      <td>105728000.0</td>\n",
       "      <td>0.088110</td>\n",
       "      <td>0.121652</td>\n",
       "      <td>-0.073398</td>\n",
       "      <td>-0.076231</td>\n",
       "    </tr>\n",
       "    <tr>\n",
       "      <th>1980-12-17</th>\n",
       "      <td>0.116071</td>\n",
       "      <td>0.115513</td>\n",
       "      <td>0.115513</td>\n",
       "      <td>0.115513</td>\n",
       "      <td>86441600.0</td>\n",
       "      <td>0.090291</td>\n",
       "      <td>0.112723</td>\n",
       "      <td>0.024751</td>\n",
       "      <td>0.024450</td>\n",
       "    </tr>\n",
       "    <tr>\n",
       "      <th>1980-12-18</th>\n",
       "      <td>0.119420</td>\n",
       "      <td>0.118862</td>\n",
       "      <td>0.118862</td>\n",
       "      <td>0.118862</td>\n",
       "      <td>73449600.0</td>\n",
       "      <td>0.092908</td>\n",
       "      <td>0.115513</td>\n",
       "      <td>0.028992</td>\n",
       "      <td>0.028580</td>\n",
       "    </tr>\n",
       "    <tr>\n",
       "      <th>...</th>\n",
       "      <td>...</td>\n",
       "      <td>...</td>\n",
       "      <td>...</td>\n",
       "      <td>...</td>\n",
       "      <td>...</td>\n",
       "      <td>...</td>\n",
       "      <td>...</td>\n",
       "      <td>...</td>\n",
       "      <td>...</td>\n",
       "    </tr>\n",
       "    <tr>\n",
       "      <th>2020-12-24</th>\n",
       "      <td>133.460007</td>\n",
       "      <td>131.100006</td>\n",
       "      <td>131.320007</td>\n",
       "      <td>131.970001</td>\n",
       "      <td>54930100.0</td>\n",
       "      <td>130.994507</td>\n",
       "      <td>130.960007</td>\n",
       "      <td>0.007712</td>\n",
       "      <td>0.007683</td>\n",
       "    </tr>\n",
       "    <tr>\n",
       "      <th>2020-12-28</th>\n",
       "      <td>137.339996</td>\n",
       "      <td>133.509995</td>\n",
       "      <td>133.990005</td>\n",
       "      <td>136.690002</td>\n",
       "      <td>124486200.0</td>\n",
       "      <td>135.679657</td>\n",
       "      <td>131.970001</td>\n",
       "      <td>0.035766</td>\n",
       "      <td>0.035141</td>\n",
       "    </tr>\n",
       "    <tr>\n",
       "      <th>2020-12-29</th>\n",
       "      <td>138.789993</td>\n",
       "      <td>134.339996</td>\n",
       "      <td>138.050003</td>\n",
       "      <td>134.869995</td>\n",
       "      <td>121047300.0</td>\n",
       "      <td>133.873077</td>\n",
       "      <td>136.690002</td>\n",
       "      <td>-0.013315</td>\n",
       "      <td>-0.013404</td>\n",
       "    </tr>\n",
       "    <tr>\n",
       "      <th>2020-12-30</th>\n",
       "      <td>135.990005</td>\n",
       "      <td>133.399994</td>\n",
       "      <td>135.580002</td>\n",
       "      <td>133.720001</td>\n",
       "      <td>96452100.0</td>\n",
       "      <td>132.731583</td>\n",
       "      <td>134.869995</td>\n",
       "      <td>-0.008527</td>\n",
       "      <td>-0.008563</td>\n",
       "    </tr>\n",
       "    <tr>\n",
       "      <th>2020-12-31</th>\n",
       "      <td>134.740005</td>\n",
       "      <td>131.720001</td>\n",
       "      <td>134.080002</td>\n",
       "      <td>132.690002</td>\n",
       "      <td>99116600.0</td>\n",
       "      <td>131.709198</td>\n",
       "      <td>133.720001</td>\n",
       "      <td>-0.007703</td>\n",
       "      <td>-0.007732</td>\n",
       "    </tr>\n",
       "  </tbody>\n",
       "</table>\n",
       "<p>10100 rows × 9 columns</p>\n",
       "</div>"
      ],
      "text/plain": [
       "                  High         Low        Open       Close       Volume  \\\n",
       "Date                                                                      \n",
       "1980-12-12    0.128906    0.128348    0.128348    0.128348  469033600.0   \n",
       "1980-12-15    0.122210    0.121652    0.122210    0.121652  175884800.0   \n",
       "1980-12-16    0.113281    0.112723    0.113281    0.112723  105728000.0   \n",
       "1980-12-17    0.116071    0.115513    0.115513    0.115513   86441600.0   \n",
       "1980-12-18    0.119420    0.118862    0.118862    0.118862   73449600.0   \n",
       "...                ...         ...         ...         ...          ...   \n",
       "2020-12-24  133.460007  131.100006  131.320007  131.970001   54930100.0   \n",
       "2020-12-28  137.339996  133.509995  133.990005  136.690002  124486200.0   \n",
       "2020-12-29  138.789993  134.339996  138.050003  134.869995  121047300.0   \n",
       "2020-12-30  135.990005  133.399994  135.580002  133.720001   96452100.0   \n",
       "2020-12-31  134.740005  131.720001  134.080002  132.690002   99116600.0   \n",
       "\n",
       "             Adj Close  prev_close  stock_return  logged_stock_return  \n",
       "Date                                                                   \n",
       "1980-12-12    0.100323         NaN           NaN                  NaN  \n",
       "1980-12-15    0.095089    0.128348     -0.052171            -0.053581  \n",
       "1980-12-16    0.088110    0.121652     -0.073398            -0.076231  \n",
       "1980-12-17    0.090291    0.112723      0.024751             0.024450  \n",
       "1980-12-18    0.092908    0.115513      0.028992             0.028580  \n",
       "...                ...         ...           ...                  ...  \n",
       "2020-12-24  130.994507  130.960007      0.007712             0.007683  \n",
       "2020-12-28  135.679657  131.970001      0.035766             0.035141  \n",
       "2020-12-29  133.873077  136.690002     -0.013315            -0.013404  \n",
       "2020-12-30  132.731583  134.869995     -0.008527            -0.008563  \n",
       "2020-12-31  131.709198  133.720001     -0.007703            -0.007732  \n",
       "\n",
       "[10100 rows x 9 columns]"
      ]
     },
     "execution_count": 18,
     "metadata": {},
     "output_type": "execute_result"
    }
   ],
   "source": [
    "apple['prev_close'] = apple['Close'].shift(1)\n",
    "apple['stock_return'] = apple['Close']/apple['prev_close'] - 1\n",
    "apple['logged_stock_return'] = np.log1p(apple['stock_return'])\n",
    "apple"
   ]
  },
  {
   "cell_type": "code",
   "execution_count": 47,
   "id": "91e4ad61",
   "metadata": {},
   "outputs": [
    {
     "data": {
      "image/png": "[encoded data removed]",
      "text/plain": [
       "<Figure size 432x288 with 1 Axes>"
      ]
     },
     "metadata": {
      "needs_background": "light"
     },
     "output_type": "display_data"
    }
   ],
   "source": [
    "apple['stock_return'].plot()\n",
    "apple['logged_stock_return'].plot()\n",
    "\n",
    "plt.legend(['Stock Return of Apple.inc',\n",
    "            'Logged Stock Return of Apple.inc'],\n",
    "           bbox_to_anchor=(1.05, 1), loc='upper left')\n",
    "\n",
    "plt.xlabel('Date')\n",
    "plt.ylabel('Return')\n",
    "sns.despine();"
   ]
  },
  {
   "cell_type": "code",
   "execution_count": 24,
   "id": "c9a966ab",
   "metadata": {},
   "outputs": [
    {
     "name": "stdout",
     "output_type": "stream",
     "text": [
      "Excepted return of AAPL: 0.0011052586231965226\n",
      "Volitility of AAPL: 0.02865297187226164\n"
     ]
    }
   ],
   "source": [
    "expected_return = apple['stock_return'].mean()\n",
    "volitility = apple['stock_return'].std()\n",
    "\n",
    "print(f'Excepted return of AAPL: {expected_return}')\n",
    "print(f'Volitility of AAPL: {volitility}')"
   ]
  },
  {
   "cell_type": "markdown",
   "id": "a5e81100",
   "metadata": {},
   "source": [
    "# Distribution"
   ]
  },
  {
   "cell_type": "code",
   "execution_count": 46,
   "id": "6dbb0618",
   "metadata": {},
   "outputs": [
    {
     "data": {
      "image/png": "[encoded data removed]",
      "text/plain": [
       "<Figure size 432x288 with 1 Axes>"
      ]
     },
     "metadata": {
      "needs_background": "light"
     },
     "output_type": "display_data"
    }
   ],
   "source": [
    "x = np.linspace(\n",
    "    apple['stock_return'].min(), \n",
    "    apple['stock_return'].max(), \n",
    "    1000\n",
    ")\n",
    "y = norm.pdf(\n",
    "    x, \n",
    "    loc=apple['stock_return'].mean(), \n",
    "    scale=apple['stock_return'].std()\n",
    ")\n",
    "\n",
    "plt.plot(x, y);\n",
    "apple['stock_return'].hist(bins=1000, density=True);\n",
    "plt.grid(False)\n",
    "sns.despine()"
   ]
  },
  {
   "cell_type": "markdown",
   "id": "36fb90b2",
   "metadata": {},
   "source": [
    "# QQ-plot"
   ]
  },
  {
   "cell_type": "code",
   "execution_count": 38,
   "id": "a44ea18f",
   "metadata": {},
   "outputs": [
    {
     "data": {
      "image/png": "[encoded data removed]",
      "text/plain": [
       "<Figure size 432x288 with 1 Axes>"
      ]
     },
     "metadata": {
      "needs_background": "light"
     },
     "output_type": "display_data"
    }
   ],
   "source": [
    "probplot(apple['stock_return'].dropna(), dist='norm', fit=True, plot=plt);"
   ]
  },
  {
   "cell_type": "markdown",
   "id": "978a9b80",
   "metadata": {},
   "source": [
    "# T-Distribution"
   ]
  },
  {
   "cell_type": "code",
   "execution_count": 44,
   "id": "1d7289f7",
   "metadata": {},
   "outputs": [
    {
     "data": {
      "image/png": "[encoded data removed]",
      "text/plain": [
       "<Figure size 432x288 with 1 Axes>"
      ]
     },
     "metadata": {
      "needs_background": "light"
     },
     "output_type": "display_data"
    }
   ],
   "source": [
    "dof, loc, scale = t.fit(apple['stock_return'].dropna())\n",
    "\n",
    "x_list = np.linspace(apple['stock_return'].min(), apple['stock_return'].max(), 100)\n",
    "y_list = t.pdf(x_list, dof, loc, scale)\n",
    "\n",
    "plt.plot(x_list, y_list)\n",
    "apple['stock_return'].hist(bins=100, density=True);\n",
    "\n",
    "plt.grid(False)\n",
    "plt.legend([ 't-distribution','Stock Return Distribution'])\n",
    "sns.despine()"
   ]
  },
  {
   "cell_type": "code",
   "execution_count": 48,
   "id": "c61bd7ef",
   "metadata": {},
   "outputs": [
    {
     "name": "stdout",
     "output_type": "stream",
     "text": [
      "Skewness of AAPL: -0.3802422925218057\n",
      "Kurtosis of AAPL: 17.90998434926715\n"
     ]
    }
   ],
   "source": [
    "skewness = apple['stock_return'].skew()\n",
    "kurtosis = apple['stock_return'].kurtosis() # greater than 3 == extreme returns and risk \n",
    "\n",
    "print(f'Skewness of AAPL: {skewness}')\n",
    "print(f'Kurtosis of AAPL: {kurtosis}')"
   ]
  },
  {
   "cell_type": "markdown",
   "id": "de508a32",
   "metadata": {},
   "source": [
    "# Statistical Test\n",
    "Both Jarque Bera and Normal Test check the normality of the given data"
   ]
  },
  {
   "cell_type": "markdown",
   "id": "ec94097f",
   "metadata": {},
   "source": [
    "## Jarque Bera"
   ]
  },
  {
   "cell_type": "code",
   "execution_count": 53,
   "id": "fe60f638",
   "metadata": {},
   "outputs": [
    {
     "data": {
      "text/plain": [
       "Jarque_beraResult(statistic=135077.04346823748, pvalue=0.0)"
      ]
     },
     "execution_count": 53,
     "metadata": {},
     "output_type": "execute_result"
    }
   ],
   "source": [
    "values = apple['stock_return'].dropna().to_numpy()\n",
    "\n",
    "# The Jarque Bera function returns a test statistics and the p-value\n",
    "jarque_bera(values) \n",
    "\n",
    "# test stats is large, p-value is very small.\n",
    "# Hence, we reject the null hypothesis that \n",
    "# the data comes from a normal distribution."
   ]
  },
  {
   "cell_type": "markdown",
   "id": "afaed6d3",
   "metadata": {},
   "source": [
    "## Normal Test"
   ]
  },
  {
   "cell_type": "code",
   "execution_count": 54,
   "id": "b7b605e8",
   "metadata": {},
   "outputs": [
    {
     "data": {
      "text/plain": [
       "NormaltestResult(statistic=2582.6580745336305, pvalue=0.0)"
      ]
     },
     "execution_count": 54,
     "metadata": {},
     "output_type": "execute_result"
    }
   ],
   "source": [
    "# # The Normal Test function also returns a test statistics and the p-value\n",
    "normaltest(values)\n",
    "\n",
    "# Again, the p-value of the test is lower than the threshold.\n",
    "# Hence, we the reject null hypothesis that data do not come from normal distribution"
   ]
  },
  {
   "cell_type": "markdown",
   "id": "dcdf26ba",
   "metadata": {},
   "source": [
    "## Kolmogorov-Smirnov Test"
   ]
  },
  {
   "cell_type": "code",
   "execution_count": 59,
   "id": "8e71723a",
   "metadata": {},
   "outputs": [
    {
     "data": {
      "text/plain": [
       "KstestResult(statistic=0.01862069490997087, pvalue=0.0017947104111641736)"
      ]
     },
     "execution_count": 59,
     "metadata": {},
     "output_type": "execute_result"
    }
   ],
   "source": [
    "# In order for the Kolmogorov-Smirnov test to work\n",
    "# we need to feed in a cumulative dense function\n",
    "def cdf(x):\n",
    "    return t.cdf(x, dof, loc, scale)\n",
    "\n",
    "# To test if the data comes from a t-distribution\n",
    "dof, loc, scale = t.fit(apple['logged_stock_return'].dropna())\n",
    "\n",
    "kstest(values, cdf)\n",
    "\n",
    "# Since p-value of the test is small than the threshold,\n",
    "# we reject the hypothesis that the data comes from a t-distribution"
   ]
  },
  {
   "cell_type": "markdown",
   "id": "078b7d14",
   "metadata": {},
   "source": [
    "## ttest_1samp"
   ]
  },
  {
   "cell_type": "code",
   "execution_count": 61,
   "id": "c9fcc8c6",
   "metadata": {},
   "outputs": [
    {
     "data": {
      "text/plain": [
       "Ttest_1sampResult(statistic=3.876443198103237, pvalue=0.00010666573216430649)"
      ]
     },
     "execution_count": 61,
     "metadata": {},
     "output_type": "execute_result"
    }
   ],
   "source": [
    "# Calculate the T-test for the mean of ONE group of scores.\n",
    "ttest_1samp(values, 0)\n",
    "\n",
    "# The p-value of the test is smaller than the threshold.\n",
    "# Hence, we reject the hypothesis that \n",
    "# the expected value (mean) of a sample of \n",
    "#independent observations a is equal to the \n",
    "# given population mean."
   ]
  },
  {
   "cell_type": "code",
   "execution_count": null,
   "id": "0f59aea0",
   "metadata": {},
   "outputs": [],
   "source": []
  }
 ],
 "metadata": {
  "kernelspec": {
   "display_name": "Python 3 (ipykernel)",
   "language": "python",
   "name": "python3"
  },
  "language_info": {
   "codemirror_mode": {
    "name": "ipython",
    "version": 3
   },
   "file_extension": ".py",
   "mimetype": "text/x-python",
   "name": "python",
   "nbconvert_exporter": "python",
   "pygments_lexer": "ipython3",
   "version": "3.9.7"
  }
 },
 "nbformat": 4,
 "nbformat_minor": 5
}
