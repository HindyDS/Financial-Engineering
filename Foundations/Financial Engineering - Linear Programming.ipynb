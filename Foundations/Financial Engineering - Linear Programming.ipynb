{
 "cells": [
  {
   "cell_type": "markdown",
   "id": "ad3870a0",
   "metadata": {},
   "source": [
    "# Linear Programming\n",
    "***\n",
    "## Maximum Return Of Portfolio\n",
    "> <font size=\"4\">μ<sub>p</sub> = μ<sup>T</sup>w</font>\n",
    "\n",
    "## Constrained Optimization\n",
    "> <font size=\"4\">max<sub>w</sub> μ<sup>T</sup>W, </font>\n",
    "\n",
    "> <font size=\"4\">where sum of matrix w must be 1, Hence, </font>\n",
    "\n",
    "> <font size=\"4\">1<sub>D</sub><sup>T</sup>w = 1</font>\n",
    "\n",
    "## Realistic Constraints\n",
    "\n",
    "> <font size=\"4\">w<sub>i</sub> ≥ 0 (value of weight i must be greater than or equal to 0)</font>\n",
    "\n",
    "> <font size=\"4\">w<sub>i</sub> ≤ .5 (value of weight i must be smaller than or equal to 0.5)</font>\n",
    "\n",
    "## Minimum Return Of Portfolio\n",
    "> <font size=\"4\">min<sub>w</sub> μ<sup>T</sup>W, </font>\n",
    "\n",
    "## Optimization can be done using <code>scipy.optimize.linprog</code>\n",
    "\n",
    "scipy.optimize.linprog(\n",
    "    <br>\n",
    "    c, \n",
    "    <br>\n",
    "    A_ub=None, \n",
    "    <br>\n",
    "    B_ub=None, \n",
    "    <br>\n",
    "    A_eq=None, \n",
    "    <br>\n",
    "    B_eq=None, \n",
    "    <br>\n",
    "    bounds=None)\n",
    "    \n",
    "min<sub>c</sub> μ<sup>T</sup>W,\n",
    "\n",
    "\n",
    "such that </font>\n",
    "\n",
    "A<sub>ub</sub>x ≤ b<sub>ub,</sub>\n",
    "<br>\n",
    "A<sub>eq</sub>x ≤ b<sub>eq,</sub>\n",
    "<br>\n",
    "l ≤ x ≤ u"
   ]
  },
  {
   "cell_type": "code",
   "execution_count": 3,
   "id": "d120bac8",
   "metadata": {},
   "outputs": [],
   "source": [
    "from scipy.optimize import linprog\n",
    "import matplotlib.pyplot as plt\n",
    "import pandas as pd\n",
    "import pandas_datareader as pdr\n",
    "import numpy as np"
   ]
  },
  {
   "cell_type": "code",
   "execution_count": 4,
   "id": "7cefcbcf",
   "metadata": {},
   "outputs": [
    {
     "data": {
      "text/html": [
       "<div>\n",
       "<style scoped>\n",
       "    .dataframe tbody tr th:only-of-type {\n",
       "        vertical-align: middle;\n",
       "    }\n",
       "\n",
       "    .dataframe tbody tr th {\n",
       "        vertical-align: top;\n",
       "    }\n",
       "\n",
       "    .dataframe thead th {\n",
       "        text-align: right;\n",
       "    }\n",
       "</style>\n",
       "<table border=\"1\" class=\"dataframe\">\n",
       "  <thead>\n",
       "    <tr style=\"text-align: right;\">\n",
       "      <th></th>\n",
       "      <th>GOOG_ret</th>\n",
       "      <th>SBUX_ret</th>\n",
       "      <th>KSS_ret</th>\n",
       "      <th>NEM_ret</th>\n",
       "    </tr>\n",
       "    <tr>\n",
       "      <th>Date</th>\n",
       "      <th></th>\n",
       "      <th></th>\n",
       "      <th></th>\n",
       "      <th></th>\n",
       "    </tr>\n",
       "  </thead>\n",
       "  <tbody>\n",
       "    <tr>\n",
       "      <th>2019-01-02</th>\n",
       "      <td>0.009888</td>\n",
       "      <td>-0.001242</td>\n",
       "      <td>0.022008</td>\n",
       "      <td>-0.004906</td>\n",
       "    </tr>\n",
       "    <tr>\n",
       "      <th>2019-01-03</th>\n",
       "      <td>-0.028484</td>\n",
       "      <td>-0.043377</td>\n",
       "      <td>-0.021091</td>\n",
       "      <td>-0.002900</td>\n",
       "    </tr>\n",
       "    <tr>\n",
       "      <th>2019-01-04</th>\n",
       "      <td>0.053786</td>\n",
       "      <td>0.033155</td>\n",
       "      <td>0.000603</td>\n",
       "      <td>0.000000</td>\n",
       "    </tr>\n",
       "    <tr>\n",
       "      <th>2019-01-07</th>\n",
       "      <td>-0.002167</td>\n",
       "      <td>0.000000</td>\n",
       "      <td>0.024093</td>\n",
       "      <td>-0.011926</td>\n",
       "    </tr>\n",
       "    <tr>\n",
       "      <th>2019-01-08</th>\n",
       "      <td>0.007385</td>\n",
       "      <td>0.000787</td>\n",
       "      <td>0.017203</td>\n",
       "      <td>0.002944</td>\n",
       "    </tr>\n",
       "    <tr>\n",
       "      <th>...</th>\n",
       "      <td>...</td>\n",
       "      <td>...</td>\n",
       "      <td>...</td>\n",
       "      <td>...</td>\n",
       "    </tr>\n",
       "    <tr>\n",
       "      <th>2021-12-27</th>\n",
       "      <td>0.006263</td>\n",
       "      <td>0.016463</td>\n",
       "      <td>0.012154</td>\n",
       "      <td>0.010919</td>\n",
       "    </tr>\n",
       "    <tr>\n",
       "      <th>2021-12-28</th>\n",
       "      <td>-0.010914</td>\n",
       "      <td>0.011819</td>\n",
       "      <td>-0.031496</td>\n",
       "      <td>0.001828</td>\n",
       "    </tr>\n",
       "    <tr>\n",
       "      <th>2021-12-29</th>\n",
       "      <td>0.000386</td>\n",
       "      <td>0.007009</td>\n",
       "      <td>0.017886</td>\n",
       "      <td>0.005474</td>\n",
       "    </tr>\n",
       "    <tr>\n",
       "      <th>2021-12-30</th>\n",
       "      <td>-0.003427</td>\n",
       "      <td>-0.001203</td>\n",
       "      <td>0.003794</td>\n",
       "      <td>0.016001</td>\n",
       "    </tr>\n",
       "    <tr>\n",
       "      <th>2021-12-31</th>\n",
       "      <td>-0.009061</td>\n",
       "      <td>0.006280</td>\n",
       "      <td>-0.017505</td>\n",
       "      <td>0.006982</td>\n",
       "    </tr>\n",
       "  </tbody>\n",
       "</table>\n",
       "<p>757 rows × 4 columns</p>\n",
       "</div>"
      ],
      "text/plain": [
       "            GOOG_ret  SBUX_ret   KSS_ret   NEM_ret\n",
       "Date                                              \n",
       "2019-01-02  0.009888 -0.001242  0.022008 -0.004906\n",
       "2019-01-03 -0.028484 -0.043377 -0.021091 -0.002900\n",
       "2019-01-04  0.053786  0.033155  0.000603  0.000000\n",
       "2019-01-07 -0.002167  0.000000  0.024093 -0.011926\n",
       "2019-01-08  0.007385  0.000787  0.017203  0.002944\n",
       "...              ...       ...       ...       ...\n",
       "2021-12-27  0.006263  0.016463  0.012154  0.010919\n",
       "2021-12-28 -0.010914  0.011819 -0.031496  0.001828\n",
       "2021-12-29  0.000386  0.007009  0.017886  0.005474\n",
       "2021-12-30 -0.003427 -0.001203  0.003794  0.016001\n",
       "2021-12-31 -0.009061  0.006280 -0.017505  0.006982\n",
       "\n",
       "[757 rows x 4 columns]"
      ]
     },
     "execution_count": 4,
     "metadata": {},
     "output_type": "execute_result"
    }
   ],
   "source": [
    "names = ['GOOG', 'SBUX', 'KSS', 'NEM']\n",
    "\n",
    "#Get the stock quote\n",
    "returns = pd.DataFrame()\n",
    "for n in names:\n",
    "    df = pdr.DataReader(n, data_source='yahoo', start='2019-01-01', end='2022-01-01')\n",
    "    ret = df['Close'].pct_change(1).dropna()\n",
    "    returns.loc[:, n + '_ret'] = ret\n",
    "\n",
    "returns"
   ]
  },
  {
   "cell_type": "code",
   "execution_count": 6,
   "id": "0ca9021c",
   "metadata": {},
   "outputs": [
    {
     "data": {
      "text/plain": [
       "4"
      ]
     },
     "execution_count": 6,
     "metadata": {},
     "output_type": "execute_result"
    }
   ],
   "source": [
    "# Mean return of each stock, also the coefficients of the linear objective function to be minimized.\n",
    "mean_return = returns.mean()\n",
    "\n",
    "# D = Number of asset in porfolio\n",
    "D = len(mean_return) \n",
    "D"
   ]
  },
  {
   "cell_type": "code",
   "execution_count": 7,
   "id": "4fa0d34a",
   "metadata": {},
   "outputs": [
    {
     "data": {
      "text/plain": [
       "[(-0.5, None), (-0.5, None), (-0.5, None), (-0.5, None)]"
      ]
     },
     "execution_count": 7,
     "metadata": {},
     "output_type": "execute_result"
    }
   ],
   "source": [
    "# The equality constraint matrix. \n",
    "# Each row of A_eq specifies the coefficients of a linear equality constraint on x.\n",
    "A_eq = np.ones((1, D)) \n",
    "\n",
    "# The equality constraint vector. Each element of A_eq @ x must equal the corresponding element of b_eq.\n",
    "b_eq = np.ones(1)     \n",
    "\n",
    "### Note: The bounds are by default (0, None) unless otherwise specified.\n",
    "# bounds = None\n",
    "# A sequence of (min, max) pairs for each element in x, defining the minimum and maximum values of that decision variable.\n",
    "bounds = [(-0.5, None)] * D\n",
    "bounds "
   ]
  },
  {
   "cell_type": "code",
   "execution_count": 12,
   "id": "0e472628",
   "metadata": {},
   "outputs": [
    {
     "data": {
      "text/plain": [
       "     con: array([-1.195674e-09])\n",
       "     fun: -0.00046549748155553193\n",
       " message: 'Optimization terminated successfully.'\n",
       "     nit: 4\n",
       "   slack: array([], dtype=float64)\n",
       "  status: 0\n",
       " success: True\n",
       "       x: array([-0.49999946, -0.49999999,  2.49999939, -0.49999994])"
      ]
     },
     "execution_count": 12,
     "metadata": {},
     "output_type": "execute_result"
    }
   ],
   "source": [
    "# minimize\n",
    "res = linprog(\n",
    "    c=mean_return,  \n",
    "    A_eq=A_eq,\n",
    "    b_eq=b_eq,\n",
    "    bounds=bounds\n",
    ")\n",
    "res"
   ]
  },
  {
   "cell_type": "markdown",
   "id": "87942f34",
   "metadata": {},
   "source": [
    "The status is 0 or the success is True indicates that the optimization was successful."
   ]
  },
  {
   "cell_type": "code",
   "execution_count": 13,
   "id": "65bf9373",
   "metadata": {},
   "outputs": [],
   "source": [
    "# The current value of the objective function c @ x.\n",
    "min_return = res.fun"
   ]
  },
  {
   "cell_type": "code",
   "execution_count": 14,
   "id": "54410705",
   "metadata": {},
   "outputs": [
    {
     "data": {
      "text/plain": [
       "     con: array([-1.02755093e-09])\n",
       "     fun: -0.0025781822814766567\n",
       " message: 'Optimization terminated successfully.'\n",
       "     nit: 4\n",
       "   slack: array([], dtype=float64)\n",
       "  status: 0\n",
       " success: True\n",
       "       x: array([ 2.49999946, -0.49999995, -0.49999951, -0.5       ])"
      ]
     },
     "execution_count": 14,
     "metadata": {},
     "output_type": "execute_result"
    }
   ],
   "source": [
    "# Maximize\n",
    "res = linprog(\n",
    "    c=-mean_return, \n",
    "    A_eq=A_eq,  \n",
    "    b_eq=b_eq, \n",
    "    bounds=bounds\n",
    ")\n",
    "res"
   ]
  },
  {
   "cell_type": "code",
   "execution_count": 15,
   "id": "7f54b843",
   "metadata": {},
   "outputs": [],
   "source": [
    "max_return = -res.fun"
   ]
  },
  {
   "cell_type": "code",
   "execution_count": 22,
   "id": "74c26b18",
   "metadata": {},
   "outputs": [
    {
     "name": "stdout",
     "output_type": "stream",
     "text": [
      "Minimum Return: -0.00046549748155553193\n",
      "Maximum Return: 0.0025781822814766567\n"
     ]
    }
   ],
   "source": [
    "print(f\"Minimum Return: {min_return}\\nMaximum Return: {max_return}\")"
   ]
  },
  {
   "cell_type": "code",
   "execution_count": null,
   "id": "3a05c339",
   "metadata": {},
   "outputs": [],
   "source": []
  },
  {
   "cell_type": "code",
   "execution_count": null,
   "id": "0d7d5077",
   "metadata": {},
   "outputs": [],
   "source": []
  }
 ],
 "metadata": {
  "kernelspec": {
   "display_name": "Python 3 (ipykernel)",
   "language": "python",
   "name": "python3"
  },
  "language_info": {
   "codemirror_mode": {
    "name": "ipython",
    "version": 3
   },
   "file_extension": ".py",
   "mimetype": "text/x-python",
   "name": "python",
   "nbconvert_exporter": "python",
   "pygments_lexer": "ipython3",
   "version": "3.9.7"
  }
 },
 "nbformat": 4,
 "nbformat_minor": 5
}
